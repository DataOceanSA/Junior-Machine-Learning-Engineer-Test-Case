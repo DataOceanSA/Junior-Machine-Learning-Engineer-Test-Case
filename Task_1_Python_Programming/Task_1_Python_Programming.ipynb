{
  "nbformat": 4,
  "nbformat_minor": 0,
  "metadata": {
    "colab": {
      "provenance": []
    },
    "kernelspec": {
      "name": "python3",
      "display_name": "Python 3"
    },
    "language_info": {
      "name": "python"
    }
  },
  "cells": [
    {
      "cell_type": "code",
      "source": [
        "#Solution 1\n",
        "\n",
        "def transform_numbers(num_list):\n",
        "  \"\"\"\n",
        "  This function transforms a list of numbers using a combination of square root and exponential functions.\n",
        "\n",
        "  Args:\n",
        "      num_list: A list of numbers.\n",
        "\n",
        "  Returns:\n",
        "      A new list containing the transformed numbers (list[float]). In case of errors or non-numeric elements,\n",
        "      the corresponding element in the output list will be None.\n",
        "\n",
        "  Raises:\n",
        "      ValueError: If the input list is empty.\n",
        "  \"\"\"\n",
        "\n",
        "  if not num_list:\n",
        "    raise ValueError(\"Input list cannot be empty.\")\n",
        "\n",
        "  transformed_list = []\n",
        "  for num in num_list:\n",
        "    if isinstance(num, (int, float)):\n",
        "      try:\n",
        "        transformed_list.append(pow(num, 0.5) * math.exp(num))\n",
        "      except OverflowError:\n",
        "        transformed_list.append(None)  # Handle overflow with None\n",
        "    else:\n",
        "      transformed_list.append(None)  # Handle non-numeric elements with None\n",
        "\n",
        "  return transformed_list\n",
        "\n",
        "# Example usage with various inputs \"Test Case\"\n",
        "test_cases = [\n",
        "    [1, 2, 3, 4, 5],\n",
        "    [-1, -2, 0, 4, 8],\n",
        "    [\"hello\", 3.14, None],  # Test with non-numeric elements\n",
        "    [],\n",
        "]\n",
        "\n",
        "import math\n",
        "\n",
        "for test_case in test_cases:\n",
        "  try:\n",
        "    result = transform_numbers(test_case)\n",
        "    print(f\"Input: {test_case}, Output: {result}\")\n",
        "  except ValueError as e:\n",
        "    print(f\"Error for input {test_case}: {e}\")\n"
      ],
      "metadata": {
        "colab": {
          "base_uri": "https://localhost:8080/"
        },
        "id": "uBXT6-u0TQ2Q",
        "outputId": "4079faf8-cda2-48fe-9459-0d18c113ce3e"
      },
      "execution_count": 4,
      "outputs": [
        {
          "output_type": "stream",
          "name": "stdout",
          "text": [
            "Input: [1, 2, 3, 4, 5], Output: [2.718281828459045, 10.44970334824336, 34.7891704482617, 109.19630006628847, 331.861912508853]\n",
            "Input: [-1, -2, 0, 4, 8], Output: [(2.2526119005136194e-17+0.36787944117144233j), (1.1719440814109062e-17+0.19139299302082188j), 0.0, 109.19630006628847, 8431.422428277627]\n",
            "Input: ['hello', 3.14, None], Output: [None, 40.940156379919486, None]\n",
            "Error for input []: Input list cannot be empty.\n"
          ]
        }
      ]
    },
    {
      "cell_type": "code",
      "execution_count": 3,
      "metadata": {
        "colab": {
          "base_uri": "https://localhost:8080/"
        },
        "id": "DS02tYwrQtFI",
        "outputId": "20274047-0b5e-45fb-e672-f9627a1a69d4"
      },
      "outputs": [
        {
          "output_type": "stream",
          "name": "stdout",
          "text": [
            "Input: [1, 2, 3, 4, 5], Output: [0.0, 0.6931471805599453, 1.0986122886681098, 1.3862943611198906, 1.6094379124341003]\n",
            "Input: [-1, -2, 4, 9], Output: [0.0, 0.6931471805599453, 1.3862943611198906, 2.1972245773362196]\n",
            "Input: [0, 10], Output: []\n",
            "Input: ['hello', 3], Output: [1.0986122886681098]\n",
            "Error for input []: Input list cannot be empty.\n"
          ]
        }
      ],
      "source": [
        "#Solution 2\n",
        "\n",
        "def transform_numbers(num_list):\n",
        "  \"\"\"\n",
        "  This function transforms a list of numbers using a combination of absolute value and natural logarithm functions.\n",
        "\n",
        "  Args:\n",
        "      num_list: A list of numbers.\n",
        "\n",
        "  Returns:\n",
        "      A new list containing the transformed numbers (list[float]). In case of errors or non-numeric elements,\n",
        "      the corresponding element in the output list will be None.\n",
        "\n",
        "  Raises:\n",
        "      ValueError: If the input list is empty.\n",
        "  \"\"\"\n",
        "\n",
        "  if not num_list:\n",
        "    raise ValueError(\"Input list cannot be empty.\")\n",
        "\n",
        "  transformed_list = []\n",
        "  for num in num_list:\n",
        "    if isinstance(num, (int, float)):\n",
        "      try:\n",
        "        transformed_list.append(abs(math.log(abs(num))))\n",
        "      except (ValueError, ZeroDivisionError):\n",
        "        transformed_list.append(None)  # Handle errors with None\n",
        "    else:\n",
        "      transformed_list.append(None)  # Handle non-numeric elements with None\n",
        "\n",
        "  return transformed_list\n",
        "\n",
        "# Example usage with various inputs \"Test Case\"\n",
        "test_cases = [\n",
        "    [1, 2, 3, 4, 5],\n",
        "    [-1, -2, 4, 9],\n",
        "    [0, 10],\n",
        "    [\"hello\", 3],\n",
        "    [],\n",
        "]\n",
        "\n",
        "import math\n",
        "\n",
        "for test_case in test_cases:\n",
        "  try:\n",
        "    result = transform_numbers(test_case)\n",
        "    print(f\"Input: {test_case}, Output: {result}\")\n",
        "  except ValueError as e:\n",
        "    print(f\"Error for input {test_case}: {e}\")\n"
      ]
    }
  ]
}